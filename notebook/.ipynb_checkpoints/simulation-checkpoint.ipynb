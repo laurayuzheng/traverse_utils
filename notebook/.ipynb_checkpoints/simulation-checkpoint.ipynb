{
 "cells": [
  {
   "cell_type": "code",
   "execution_count": 1,
   "metadata": {},
   "outputs": [
    {
     "name": "stdout",
     "output_type": "stream",
     "text": [
      "pygame 2.1.2 (SDL 2.0.16, Python 3.9.20)\n",
      "Hello from the pygame community. https://www.pygame.org/contribute.html\n"
     ]
    }
   ],
   "source": [
    "# visualization\n",
    "from IPython.display import Image as IImage\n",
    "import pygame\n",
    "import numpy as np\n",
    "from PIL import Image"
   ]
  },
  {
   "cell_type": "code",
   "execution_count": 2,
   "metadata": {},
   "outputs": [],
   "source": [
    "def make_GIF(frames, name=\"demo.gif\"):\n",
    "    print(\"Generate gif...\")\n",
    "    imgs = [frame for frame in frames]\n",
    "    imgs = [Image.fromarray(img) for img in imgs]\n",
    "    imgs[0].save(name, save_all=True, append_images=imgs[1:], duration=50, loop=0)"
   ]
  },
  {
   "cell_type": "code",
   "execution_count": 4,
   "metadata": {},
   "outputs": [
    {
     "name": "stderr",
     "output_type": "stream",
     "text": [
      "\u001b[33;20m[WARNING] Fail to update assets. Assets already exists, version: 0.4.2.3. Expected version: 0.4.2.3. To overwrite existing assets and update, add flag '--update' and rerun this script (pull_asset.py:65)\u001b[0m\n"
     ]
    }
   ],
   "source": [
    "#@title Make some configurations and import some modules\n",
    "from metadrive.engine.engine_utils import close_engine\n",
    "close_engine()\n",
    "from metadrive.pull_asset import pull_asset\n",
    "pull_asset(False)\n",
    "# NOTE: usually you don't need the above lines. It is only for avoiding a potential bug when running on colab\n",
    "\n",
    "from metadrive.engine.asset_loader import AssetLoader\n",
    "from metadrive.policy.replay_policy import ReplayEgoCarPolicy\n",
    "from metadrive.envs.scenario_env import ScenarioEnv\n",
    "import os\n",
    "\n",
    "threeD_render=False # turn on this to enable 3D render. It only works when you have a screen and not running on Colab.\n",
    "threeD_render=threeD_render and not RunningInCOLAB\n",
    "os.environ[\"SDL_VIDEODRIVER\"] = \"dummy\" # Hide the pygame window\n",
    "\n",
    "data_root = \"/fs/nexus-projects/pc_driving/datasets\"\n",
    "\n",
    "traverse_data =  AssetLoader.file_path(data_root, \"traverse\", \"sd_sumo\", \"val\", unix_style=False) # Use the built-in datasets with simulator\n",
    "nuscenes_data =  AssetLoader.file_path(data_root, \"nuscenes\", \"trainval\", unix_style=False) # Use the built-in datasets with simulator\n"
   ]
  },
  {
   "cell_type": "code",
   "execution_count": 12,
   "metadata": {},
   "outputs": [
    {
     "name": "stderr",
     "output_type": "stream",
     "text": [
      "\u001b[38;20m[INFO] Environment: ScenarioEnv\u001b[0m\n",
      "\u001b[38;20m[INFO] MetaDrive version: 0.4.2.3\u001b[0m\n",
      "\u001b[38;20m[INFO] Sensors: [lidar: Lidar(), side_detector: SideDetector(), lane_line_detector: LaneLineDetector()]\u001b[0m\n",
      "\u001b[38;20m[INFO] Render Mode: none\u001b[0m\n",
      "\u001b[38;20m[INFO] Horizon (Max steps per agent): None\u001b[0m\n",
      "\u001b[38;20m[INFO] Assets version: 0.4.2.3\u001b[0m\n",
      "\u001b[38;20m[INFO] Known Pipes: glxGraphicsPipe\u001b[0m\n"
     ]
    },
    {
     "name": "stdout",
     "output_type": "stream",
     "text": [
      "\n",
      "Simulate Scenario: 0\n"
     ]
    },
    {
     "name": "stderr",
     "output_type": "stream",
     "text": [
      "\u001b[38;20m[INFO] Start Scenario Index: 0, Num Scenarios : 10\u001b[0m\n",
      "\u001b[38;20m[INFO] Episode ended! Scenario Index: 0 Scenario id: 10_FCD_T001 Reason: arrive_dest.\u001b[0m\n"
     ]
    },
    {
     "name": "stdout",
     "output_type": "stream",
     "text": [
      "Generate gif...\n",
      "\n",
      "Simulate Scenario: 1\n"
     ]
    },
    {
     "name": "stderr",
     "output_type": "stream",
     "text": [
      "/fs/nexus-scratch/lyzheng/miniconda3/envs/pc_driving/lib/python3.9/site-packages/numpy/core/_methods.py:206: RuntimeWarning: Degrees of freedom <= 0 for slice\n",
      "  ret = _var(a, axis=axis, dtype=dtype, out=out, ddof=ddof,\n",
      "/fs/nexus-scratch/lyzheng/miniconda3/envs/pc_driving/lib/python3.9/site-packages/numpy/core/_methods.py:163: RuntimeWarning: invalid value encountered in divide\n",
      "  arrmean = um.true_divide(arrmean, div, out=arrmean,\n",
      "/fs/nexus-scratch/lyzheng/miniconda3/envs/pc_driving/lib/python3.9/site-packages/numpy/core/_methods.py:195: RuntimeWarning: invalid value encountered in divide\n",
      "  ret = um.true_divide(\n",
      "\u001b[38;20m[INFO] Episode ended! Scenario Index: 1 Scenario id: 10_FCD_T001 Reason: arrive_dest.\u001b[0m\n"
     ]
    },
    {
     "name": "stdout",
     "output_type": "stream",
     "text": [
      "Generate gif...\n"
     ]
    }
   ],
   "source": [
    "env = ScenarioEnv(\n",
    "    {\n",
    "        \"manual_control\": False,\n",
    "        \"reactive_traffic\": False,\n",
    "        \"use_render\": False,\n",
    "        \"agent_policy\": ReplayEgoCarPolicy,\n",
    "        \"data_directory\": traverse_data, # use nuscenes data\n",
    "        \"num_scenarios\": 10, # load 10 scenarios\n",
    "    }\n",
    ")\n",
    "\n",
    "for seed in range(2): # only simulate the first 2 scenarios\n",
    "    print(\"\\nSimulate Scenario: {}\".format(seed))\n",
    "    o, _ = env.reset(seed=seed)\n",
    "    frames = []\n",
    "    for i in range(1, 100000):\n",
    "        o, r, tm, tc, info = env.step([1.0, 0.])\n",
    "        frames.append(env.render(mode=\"top_down\",film_size=(4000, 4000), screen_size=(500, 500)))\n",
    "        if tm or tc:\n",
    "            make_GIF(frames, name=\"scenario_{}.gif\".format(seed))\n",
    "            break\n",
    "\n",
    "env.close()"
   ]
  },
  {
   "cell_type": "code",
   "execution_count": null,
   "metadata": {},
   "outputs": [],
   "source": [
    "#@title Create ScenarioEnv Wrapper which accepts batch data and predictions from a dataloader\n"
   ]
  },
  {
   "cell_type": "code",
   "execution_count": 14,
   "metadata": {},
   "outputs": [],
   "source": [
    "#@title Create Policy Wrapper which accepts batch data and predictions from a dataloader\n",
    "from metadrive.policy.base_policy import BasePolicy\n",
    "from metadrive.policy.replay_policy import ReplayTrafficParticipantPolicy, ReplayEgoCarPolicy\n",
    "from metadrive.envs import MetaDriveEnv\n",
    "from IPython.display import clear_output, Image\n",
    "\n",
    "class ReplayTrajectoryPredictionPolicy(ReplayEgoCarPolicy):\n",
    "    \n",
    "    def get_trajectory_info(self, trajectory):\n",
    "        '''Same as the ego policy'''\n",
    "        # Directly get trajectory from data manager\n",
    "        trajectory_data = self.engine.data_manager.current_scenario[\"tracks\"]\n",
    "        sdc_track_index = str(self.engine.data_manager.current_scenario[\"metadata\"][\"sdc_id\"])\n",
    "        ret = []\n",
    "        for i in range(len(trajectory_data[sdc_track_index][\"state\"][\"position\"])):\n",
    "            ret.append(parse_object_state(\n",
    "                trajectory_data[sdc_track_index],\n",
    "                i,\n",
    "            ))\n",
    "        return ret"
   ]
  },
  {
   "cell_type": "code",
   "execution_count": null,
   "metadata": {},
   "outputs": [],
   "source": []
  }
 ],
 "metadata": {
  "kernelspec": {
   "display_name": "Python 3 (ipykernel)",
   "language": "python",
   "name": "python3"
  },
  "language_info": {
   "codemirror_mode": {
    "name": "ipython",
    "version": 3
   },
   "file_extension": ".py",
   "mimetype": "text/x-python",
   "name": "python",
   "nbconvert_exporter": "python",
   "pygments_lexer": "ipython3",
   "version": "3.9.20"
  }
 },
 "nbformat": 4,
 "nbformat_minor": 4
}
